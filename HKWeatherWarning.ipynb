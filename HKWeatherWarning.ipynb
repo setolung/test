{
 "cells": [
  {
   "cell_type": "code",
   "execution_count": 11,
   "id": "2c6d79d8",
   "metadata": {},
   "outputs": [],
   "source": [
    "import requests\n",
    "from datetime import datetime\n",
    "api = \"https://data.weather.gov.hk/weatherAPI/opendata/weather.php?dataType=warnsum&lang=tc\"\n",
    "json_data = requests.get(api).json()\n",
    "# print(json_data)"
   ]
  },
  {
   "cell_type": "code",
   "execution_count": 12,
   "id": "635786a9",
   "metadata": {},
   "outputs": [],
   "source": [
    "# print(json_data.keys())"
   ]
  },
  {
   "cell_type": "code",
   "execution_count": 13,
   "id": "296dbcab",
   "metadata": {},
   "outputs": [],
   "source": [
    "condition = list(json_data.keys())\n",
    "# print (condition)"
   ]
  },
  {
   "cell_type": "code",
   "execution_count": 14,
   "id": "59b575aa",
   "metadata": {},
   "outputs": [],
   "source": [
    "# if 'WHOT' in condition:\n",
    "#     print(json_data['WHOT']['name'])"
   ]
  },
  {
   "cell_type": "code",
   "execution_count": 22,
   "id": "c0a5fde2",
   "metadata": {},
   "outputs": [
    {
     "name": "stdout",
     "output_type": "stream",
     "text": [
      "酷熱天氣警告\n",
      "issuetime 2022-07-31T09:30:00\n",
      "uptime 2022-07-31T09:30:00+08:00\n"
     ]
    }
   ],
   "source": [
    "for i in condition:\n",
    "    print(json_data[i]['name'])\n",
    "    print(\"issuetime\",json_data[i]['issueTime'][0 :19])\n",
    "    print(\"uptime\",json_data[i]['updateTime'])\n"
   ]
  },
  {
   "cell_type": "code",
   "execution_count": 18,
   "id": "8cea9e9e",
   "metadata": {},
   "outputs": [
    {
     "name": "stdout",
     "output_type": "stream",
     "text": [
      "now: 2022-07-31 15:41:08\n"
     ]
    }
   ],
   "source": [
    "now = datetime.now()\n",
    "date_time_str = now.strftime(\"%Y-%m-%d %H:%M:%S\")\n",
    "print('now:', date_time_str)"
   ]
  }
 ],
 "metadata": {
  "kernelspec": {
   "display_name": "Python 3 (ipykernel)",
   "language": "python",
   "name": "python3"
  },
  "language_info": {
   "codemirror_mode": {
    "name": "ipython",
    "version": 3
   },
   "file_extension": ".py",
   "mimetype": "text/x-python",
   "name": "python",
   "nbconvert_exporter": "python",
   "pygments_lexer": "ipython3",
   "version": "3.9.12"
  }
 },
 "nbformat": 4,
 "nbformat_minor": 5
}
